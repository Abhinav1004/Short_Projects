{
 "cells": [
  {
   "cell_type": "markdown",
   "id": "a01f3014",
   "metadata": {},
   "source": [
    "# Importing Libraries"
   ]
  },
  {
   "cell_type": "code",
   "execution_count": 1,
   "id": "14b6b9ea",
   "metadata": {},
   "outputs": [],
   "source": [
    "import pandas as pd\n",
    "import numpy as np"
   ]
  },
  {
   "cell_type": "markdown",
   "id": "77befd30",
   "metadata": {},
   "source": [
    "# Task 2\n",
    "\n",
    "## 2.0 Loading the data"
   ]
  },
  {
   "cell_type": "code",
   "execution_count": 2,
   "id": "d909748b",
   "metadata": {},
   "outputs": [],
   "source": [
    "data = pd.read_csv(\"used_bikes.csv\")"
   ]
  },
  {
   "cell_type": "code",
   "execution_count": 3,
   "id": "67c38fbf",
   "metadata": {
    "scrolled": false
   },
   "outputs": [
    {
     "data": {
      "text/html": [
       "<div>\n",
       "<style scoped>\n",
       "    .dataframe tbody tr th:only-of-type {\n",
       "        vertical-align: middle;\n",
       "    }\n",
       "\n",
       "    .dataframe tbody tr th {\n",
       "        vertical-align: top;\n",
       "    }\n",
       "\n",
       "    .dataframe thead th {\n",
       "        text-align: right;\n",
       "    }\n",
       "</style>\n",
       "<table border=\"1\" class=\"dataframe\">\n",
       "  <thead>\n",
       "    <tr style=\"text-align: right;\">\n",
       "      <th></th>\n",
       "      <th>bike_name</th>\n",
       "      <th>price</th>\n",
       "      <th>city</th>\n",
       "      <th>kms_driven</th>\n",
       "      <th>owner</th>\n",
       "      <th>age</th>\n",
       "      <th>power</th>\n",
       "      <th>brand</th>\n",
       "    </tr>\n",
       "  </thead>\n",
       "  <tbody>\n",
       "    <tr>\n",
       "      <th>0</th>\n",
       "      <td>TVS Star City Plus Dual Tone 110cc</td>\n",
       "      <td>35000.0</td>\n",
       "      <td>Ahmedabad</td>\n",
       "      <td>17654.0</td>\n",
       "      <td>First Owner</td>\n",
       "      <td>3.0</td>\n",
       "      <td>110.0</td>\n",
       "      <td>TVS</td>\n",
       "    </tr>\n",
       "    <tr>\n",
       "      <th>1</th>\n",
       "      <td>Royal Enfield Classic 350cc</td>\n",
       "      <td>119900.0</td>\n",
       "      <td>Delhi</td>\n",
       "      <td>11000.0</td>\n",
       "      <td>First Owner</td>\n",
       "      <td>4.0</td>\n",
       "      <td>350.0</td>\n",
       "      <td>Royal Enfield</td>\n",
       "    </tr>\n",
       "    <tr>\n",
       "      <th>2</th>\n",
       "      <td>Triumph Daytona 675R</td>\n",
       "      <td>600000.0</td>\n",
       "      <td>Delhi</td>\n",
       "      <td>110.0</td>\n",
       "      <td>First Owner</td>\n",
       "      <td>8.0</td>\n",
       "      <td>675.0</td>\n",
       "      <td>Triumph</td>\n",
       "    </tr>\n",
       "    <tr>\n",
       "      <th>3</th>\n",
       "      <td>TVS Apache RTR 180cc</td>\n",
       "      <td>65000.0</td>\n",
       "      <td>Bangalore</td>\n",
       "      <td>16329.0</td>\n",
       "      <td>First Owner</td>\n",
       "      <td>4.0</td>\n",
       "      <td>180.0</td>\n",
       "      <td>TVS</td>\n",
       "    </tr>\n",
       "    <tr>\n",
       "      <th>4</th>\n",
       "      <td>Yamaha FZ S V 2.0 150cc-Ltd. Edition</td>\n",
       "      <td>80000.0</td>\n",
       "      <td>Bangalore</td>\n",
       "      <td>10000.0</td>\n",
       "      <td>First Owner</td>\n",
       "      <td>3.0</td>\n",
       "      <td>150.0</td>\n",
       "      <td>Yamaha</td>\n",
       "    </tr>\n",
       "  </tbody>\n",
       "</table>\n",
       "</div>"
      ],
      "text/plain": [
       "                              bike_name     price       city  kms_driven  \\\n",
       "0    TVS Star City Plus Dual Tone 110cc   35000.0  Ahmedabad     17654.0   \n",
       "1           Royal Enfield Classic 350cc  119900.0      Delhi     11000.0   \n",
       "2                  Triumph Daytona 675R  600000.0      Delhi       110.0   \n",
       "3                  TVS Apache RTR 180cc   65000.0  Bangalore     16329.0   \n",
       "4  Yamaha FZ S V 2.0 150cc-Ltd. Edition   80000.0  Bangalore     10000.0   \n",
       "\n",
       "         owner  age  power          brand  \n",
       "0  First Owner  3.0  110.0            TVS  \n",
       "1  First Owner  4.0  350.0  Royal Enfield  \n",
       "2  First Owner  8.0  675.0        Triumph  \n",
       "3  First Owner  4.0  180.0            TVS  \n",
       "4  First Owner  3.0  150.0         Yamaha  "
      ]
     },
     "execution_count": 3,
     "metadata": {},
     "output_type": "execute_result"
    }
   ],
   "source": [
    "data.head()"
   ]
  },
  {
   "cell_type": "code",
   "execution_count": 4,
   "id": "7012bba9",
   "metadata": {
    "scrolled": true
   },
   "outputs": [
    {
     "data": {
      "text/plain": [
       "(149, 8)"
      ]
     },
     "execution_count": 4,
     "metadata": {},
     "output_type": "execute_result"
    }
   ],
   "source": [
    "data.shape"
   ]
  },
  {
   "cell_type": "markdown",
   "id": "40a9ff4a",
   "metadata": {},
   "source": [
    "## 2.1Answer No.1  \n",
    "\n",
    "**1. Change the datatypes of the column and check the memory usage before and after the change in the data types.**"
   ]
  },
  {
   "cell_type": "code",
   "execution_count": 5,
   "id": "207c47b0",
   "metadata": {},
   "outputs": [
    {
     "name": "stdout",
     "output_type": "stream",
     "text": [
      "<class 'pandas.core.frame.DataFrame'>\n",
      "RangeIndex: 149 entries, 0 to 148\n",
      "Data columns (total 8 columns):\n",
      " #   Column      Non-Null Count  Dtype  \n",
      "---  ------      --------------  -----  \n",
      " 0   bike_name   149 non-null    object \n",
      " 1   price       149 non-null    float64\n",
      " 2   city        149 non-null    object \n",
      " 3   kms_driven  149 non-null    float64\n",
      " 4   owner       149 non-null    object \n",
      " 5   age         149 non-null    float64\n",
      " 6   power       149 non-null    float64\n",
      " 7   brand       149 non-null    object \n",
      "dtypes: float64(4), object(4)\n",
      "memory usage: 9.4+ KB\n"
     ]
    }
   ],
   "source": [
    "data.info()"
   ]
  },
  {
   "cell_type": "code",
   "execution_count": 6,
   "id": "64af14b9",
   "metadata": {},
   "outputs": [],
   "source": [
    "data['price'] = data['price'].astype(int)\n",
    "data['age'] = data['age'].astype(int)\n",
    "data['kms_driven'] = data['kms_driven'].astype(int)\n",
    "data['power'] = data['power'].astype(int)"
   ]
  },
  {
   "cell_type": "code",
   "execution_count": 7,
   "id": "a1a7b5e2",
   "metadata": {
    "scrolled": false
   },
   "outputs": [
    {
     "name": "stdout",
     "output_type": "stream",
     "text": [
      "<class 'pandas.core.frame.DataFrame'>\n",
      "RangeIndex: 149 entries, 0 to 148\n",
      "Data columns (total 8 columns):\n",
      " #   Column      Non-Null Count  Dtype \n",
      "---  ------      --------------  ----- \n",
      " 0   bike_name   149 non-null    object\n",
      " 1   price       149 non-null    int32 \n",
      " 2   city        149 non-null    object\n",
      " 3   kms_driven  149 non-null    int32 \n",
      " 4   owner       149 non-null    object\n",
      " 5   age         149 non-null    int32 \n",
      " 6   power       149 non-null    int32 \n",
      " 7   brand       149 non-null    object\n",
      "dtypes: int32(4), object(4)\n",
      "memory usage: 7.1+ KB\n"
     ]
    }
   ],
   "source": [
    "data.info()"
   ]
  },
  {
   "cell_type": "markdown",
   "id": "6d96990d",
   "metadata": {},
   "source": [
    "## 2.2 Solution\n",
    "\n",
    "**The memory used before type conversion was 9.4KB and after conversion is 7.1KB hence there is a memory reduction of 2.3KB**"
   ]
  },
  {
   "cell_type": "markdown",
   "id": "a128afce",
   "metadata": {},
   "source": [
    "## 2.2 Answer No. 2\n",
    "\n",
    "**2. Dump the data into the database index the column after the data is inserted.**  \n",
    "\n",
    "\n",
    "The data is dumped to a database with proper indexing in the following code"
   ]
  },
  {
   "cell_type": "code",
   "execution_count": 8,
   "id": "f8937c04",
   "metadata": {},
   "outputs": [
    {
     "name": "stdout",
     "output_type": "stream",
     "text": [
      "Requirement already satisfied: sqlalchemy in d:\\ml_projects\\myenv\\lib\\site-packages (1.4.31)\n",
      "Requirement already satisfied: greenlet!=0.4.17 in d:\\ml_projects\\myenv\\lib\\site-packages (from sqlalchemy) (1.1.2)\n"
     ]
    }
   ],
   "source": [
    "!pip install sqlalchemy\n",
    "from sqlalchemy import create_engine"
   ]
  },
  {
   "cell_type": "code",
   "execution_count": 9,
   "id": "bbeebb8f",
   "metadata": {},
   "outputs": [
    {
     "name": "stdout",
     "output_type": "stream",
     "text": [
      "[(0, 'TVS Star City Plus Dual Tone 110cc', 35000, 'Ahmedabad', 17654, 'First Owner', 3, 110, 'TVS'), (1, 'Royal Enfield Classic 350cc', 119900, 'Delhi', 11000, 'First Owner', 4, 350, 'Royal Enfield'), (2, 'Triumph Daytona 675R', 600000, 'Delhi', 110, 'First Owner', 8, 675, 'Triumph'), (3, 'TVS Apache RTR 180cc', 65000, 'Bangalore', 16329, 'First Owner', 4, 180, 'TVS'), (4, 'Yamaha FZ S V 2.0 150cc-Ltd. Edition', 80000, 'Bangalore', 10000, 'First Owner', 3, 150, 'Yamaha'), (5, 'Yamaha FZs 150cc', 53499, 'Delhi', 25000, 'First Owner', 6, 150, 'Yamaha'), (6, 'Honda CB Hornet 160R  ABS DLX', 85000, 'Delhi', 8200, 'First Owner', 3, 160, 'Honda'), (7, 'Hero Splendor Plus Self Alloy 100cc', 45000, 'Delhi', 12645, 'First Owner', 3, 100, 'Hero'), (8, 'Royal Enfield Thunderbird X 350cc', 145000, 'Bangalore', 9190, 'First Owner', 3, 350, 'Royal Enfield'), (9, 'Royal Enfield Classic Desert Storm 500cc', 88000, 'Delhi', 19000, 'Second Owner', 7, 500, 'Royal Enfield'), (10, 'Yamaha YZF-R15 2.0 150cc', 72000, 'Bangalore', 20000, 'First Owner', 7, 150, 'Yamaha'), (11, 'Yamaha FZ25 250cc', 95000, 'Bangalore', 9665, 'First Owner', 4, 250, 'Yamaha'), (12, 'Bajaj Pulsar NS200', 78000, 'Bangalore', 9900, 'First Owner', 4, 200, 'Bajaj'), (13, 'Bajaj Discover 100M', 29499, 'Delhi', 20000, 'First Owner', 8, 100, 'Bajaj'), (14, 'Bajaj Discover 125M', 29900, 'Delhi', 20000, 'First Owner', 7, 125, 'Bajaj'), (15, 'Bajaj Pulsar NS200 ABS', 90000, 'Bangalore', 11574, 'First Owner', 3, 200, 'Bajaj'), (16, 'Bajaj Pulsar RS200 ABS', 120000, 'Bangalore', 23000, 'First Owner', 3, 200, 'Bajaj'), (17, 'Suzuki Gixxer SF 150cc', 48000, 'Mumbai', 24725, 'First Owner', 5, 150, 'Suzuki'), (18, 'Benelli 302R 300CC', 240000, 'Mumbai', 15025, 'Second Owner', 3, 302, 'Benelli'), (19, 'Bajaj Discover 125M', 29900, 'Delhi', 20000, 'First Owner', 7, 125, 'Bajaj'), (20, 'Bajaj Pulsar RS200 ABS', 120000, 'Bangalore', 23000, 'First Owner', 3, 200, 'Bajaj'), (21, 'Suzuki Gixxer SF 150cc', 48000, 'Mumbai', 24725, 'First Owner', 5, 150, 'Suzuki'), (22, 'Hero Splendor iSmart Plus IBS 110cc', 46500, 'Delhi', 3500, 'First Owner', 2, 110, 'Hero'), (23, 'Royal Enfield Classic Chrome 500cc', 121700, 'Kalyan', 24520, 'First Owner', 5, 500, 'Royal Enfield'), (24, 'Yamaha FZ V 2.0 150cc', 45000, 'Delhi', 23000, 'First Owner', 6, 150, 'Yamaha'), (25, 'Bajaj Pulsar NS200', 78000, 'Bangalore', 9900, 'First Owner', 4, 200, 'Bajaj'), (26, 'Hero Super Splendor 125cc', 20000, 'Ahmedabad', 29305, 'First Owner', 16, 125, 'Hero'), (27, 'Honda CBF Stunner 125cc', 20800, 'Faridabad', 30500, 'Second Owner', 7, 125, 'Honda'), (28, 'Bajaj Pulsar 150cc', 50000, 'Bangalore', 19000, 'First Owner', 8, 150, 'Bajaj'), (29, 'Honda X-Blade 160CC ABS', 81200, 'Mettur', 9100, 'First Owner', 2, 160, 'Honda'), (30, 'Bajaj Pulsar NS200', 88000, 'Hyderabad', 21914, 'First Owner', 3, 200, 'Bajaj'), (31, 'Yamaha YZF-R15 2.0 150cc', 80000, 'Kaithal', 20000, 'Second Owner', 4, 150, 'Yamaha'), (32, 'Bajaj Avenger 220cc', 40900, 'Gurgaon', 15000, 'First Owner', 6, 220, 'Bajaj'), (33, 'KTM RC 390cc', 180000, 'Pune', 17700, 'First Owner', 4, 390, 'KTM'), (34, 'Honda CB Unicorn 150cc', 40000, 'Noida', 30000, 'First Owner', 8, 150, 'Honda'), (35, 'KTM Duke 200cc', 70000, 'Nashik', 100000, 'Second Owner', 8, 200, 'KTM'), (36, 'Royal Enfield Classic 350cc', 98800, 'Kochi', 39000, 'First Owner', 5, 350, 'Royal Enfield'), (37, 'Honda CBR 150R 150cc', 65000, 'Allahabad', 43000, 'First Owner', 6, 150, 'Honda'), (38, 'Royal Enfield Thunderbird X 500cc', 190500, 'Samastipur', 4550, 'First Owner', 2, 500, 'Royal Enfield'), (39, 'KTM RC 200cc ABS', 179000, 'Bangalore', 3400, 'First Owner', 2, 200, 'KTM'), (40, 'Royal Enfield Thunderbird 350cc', 70000, 'Nadiad', 45000, 'First Owner', 8, 350, 'Royal Enfield'), (41, 'Bajaj Avenger 220cc', 45000, 'Hyderabad', 36100, 'First Owner', 6, 220, 'Bajaj'), (42, 'Royal Enfield Bullet Electra 350cc', 78000, 'Lucknow', 8500, 'First Owner', 13, 350, 'Royal Enfield'), (43, 'Bajaj Avenger Street 220 ABS', 110000, 'Bangalore', 2550, 'First Owner', 2, 220, 'Bajaj'), (44, 'Royal Enfield Classic 350cc', 85000, 'Delhi', 18000, 'First Owner', 6, 350, 'Royal Enfield'), (45, 'Bajaj Pulsar NS200', 38000, 'Delhi', 35000, 'First Owner', 9, 200, 'Bajaj'), (46, 'Royal Enfield Thunderbird 350cc', 55346, 'Noida', 38000, 'First Owner', 10, 350, 'Royal Enfield'), (47, 'Mahindra Centuro NXT 110cc', 28000, 'Jaipur', 45000, 'First Owner', 2, 110, 'Mahindra'), (48, 'Hero Hunk 150cc', 37000, 'Mumbai', 10800, 'First Owner', 8, 150, 'Hero'), (49, 'Suzuki Gixxer SF Fi 150cc SP ABS', 97000, 'Delhi', 4400, 'First Owner', 3, 150, 'Suzuki'), (50, 'Yamaha FZ 150cc', 40000, 'Karnal', 357000, 'First Owner', 8, 150, 'Yamaha'), (51, 'Royal Enfield\\u200e Bullet 350cc', 90000, 'Delhi', 15300, 'First Owner', 7, 350, 'Royal Enfield'), (52, 'TVS Apache RTR 160cc', 60000, 'Mumbai', 30000, 'First Owner', 5, 160, 'TVS'), (53, 'Honda CB Shine 125cc', 21900, 'Gorakhpur', 30000, 'Second Owner', 7, 125, 'Honda'), (54, 'Bajaj Avenger 220cc', 40000, 'Ahmedabad', 64000, 'First Owner', 7, 220, 'Bajaj'), (55, 'Benelli TNT 600i ABS', 475000, 'Mumbai', 11500, 'Second Owner', 3, 600, 'Benelli'), (56, 'Honda Dream Yuga 110cc', 34500, 'Ahmedabad', 17056, 'First Owner', 5, 110, 'Honda'), (57, 'Yamaha SZ 150cc', 25000, 'Vidisha', 172082, 'First Owner', 9, 150, 'Yamaha'), (58, 'Suzuki Gixxer 150cc', 30200, 'Bangalore', 45000, 'First Owner', 7, 150, 'Suzuki'), (59, 'Bajaj Avenger Cruise 220', 65000, 'Hosur', 35000, 'First Owner', 5, 220, 'Bajaj'), (60, 'Bajaj Pulsar 150cc', 25000, 'Mumbai', 38000, 'First Owner', 9, 150, 'Bajaj'), (61, 'Kawasaki Z900', 935000, 'Bagalkot', 2500, 'First Owner', 2, 900, 'Kawasaki'), (62, 'Royal Enfield Bullet Electra 350cc', 107100, 'Delhi', 15438, 'Second Owner', 3, 350, 'Royal Enfield'), (63, 'Bajaj Pulsar 220cc', 80000, 'Delhi', 6000, 'First Owner', 3, 220, 'Bajaj'), (64, 'Royal Enfield Thunderbird 350cc', 88000, 'Delhi', 19000, 'First Owner', 5, 350, 'Royal Enfield'), (65, 'KTM Duke 200cc', 94700, 'Baripara', 32700, 'First Owner', 4, 200, 'KTM'), (66, 'Hero CD Deluxe 100cc', 12200, 'Agra', 46643, 'First Owner', 14, 100, 'Hero'), (67, 'Royal Enfield Classic 350cc', 106000, 'Delhi', 19000, 'First Owner', 6, 350, 'Royal Enfield'), (68, 'Bajaj Pulsar 220cc', 29500, 'Hyderabad', 40700, 'First Owner', 12, 220, 'Bajaj'), (69, 'Kawasaki Ninja 650cc', 290000, 'Dharwad', 11350, 'First Owner', 7, 650, 'Kawasaki'), (70, 'Royal Enfield Thunderbird 350cc', 110000, 'Delhi', 1600, 'First Owner', 6, 350, 'Royal Enfield'), (71, 'Bajaj Platina 125cc', 27000, 'Vadodara', 44410, 'First Owner', 10, 125, 'Bajaj'), (72, 'Royal Enfield Thunderbird 350cc', 65000, 'Jalandhar', 9800, 'First Owner', 11, 350, 'Royal Enfield'), (73, 'Royal Enfield Thunderbird X 350cc', 150000, 'Bangalore', 15000, 'First Owner', 3, 350, 'Royal Enfield'), (74, 'Hero Karizma ZMR 223cc', 55786, 'Surat', 68000, 'Second Owner', 7, 223, 'Hero'), (75, 'Bajaj Pulsar 180cc', 45000, 'Bangalore', 17757, 'First Owner', 8, 180, 'Bajaj'), (76, 'Yamaha FZ25 ABS 250cc', 146000, 'Chennai', 3900, 'First Owner', 2, 250, 'Yamaha'), (77, 'Royal Enfield Thunderbird 350cc', 115000, 'Bangalore', 23700, 'First Owner', 4, 350, 'Royal Enfield'), (78, 'Bajaj CT 100 100cc', 30000, 'Noida', 8250, 'First Owner', 3, 100, 'Bajaj'), (79, 'Bajaj Pulsar RS200 ABS', 93100, 'Mumbai', 10000, 'First Owner', 5, 200, 'Bajaj'), (80, 'Yamaha YZF-R15 2.0 150cc', 82000, 'Mumbai', 4300, 'Second Owner', 3, 150, 'Yamaha'), (81, 'Royal Enfield Interceptor 650cc', 260000, 'Navi Mumbai', 3800, 'First Owner', 2, 650, 'Royal Enfield'), (82, 'Honda CB Shine 125cc', 38000, 'Bangalore', 33000, 'First Owner', 7, 125, 'Honda'), (83, 'KTM Duke 250cc', 130000, 'Gandhidham', 17500, 'Second Owner', 4, 250, 'KTM'), (84, 'Royal Enfield Himalayan 410cc', 118000, 'Gurgaon', 19000, 'First Owner', 4, 410, 'Royal Enfield'), (85, 'Bajaj Pulsar 135LS', 14700, 'Delhi', 10000, 'First Owner', 11, 135, 'Bajaj'), (86, 'Royal Enfield Thunderbird 350cc', 85000, 'Chennai', 54000, 'First Owner', 6, 350, 'Royal Enfield'), (87, 'Bajaj Pulsar 220F', 40000, 'Mumbai', 27000, 'First Owner', 7, 220, 'Bajaj'), (88, 'Yamaha FZ16 150cc', 50000, 'Bangalore', 19000, 'First Owner', 6, 150, 'Yamaha'), (89, 'Royal Enfield Thunderbird 350cc', 71800, 'Mumbai', 43500, 'First Owner', 7, 350, 'Royal Enfield'), (90, 'Royal Enfield Thunderbird 350cc', 71800, 'Mumbai', 43500, 'First Owner', 7, 350, 'Royal Enfield'), (91, 'Bajaj Pulsar NS200', 75000, 'Bangalore', 11575, 'First Owner', 4, 200, 'Bajaj'), (92, 'Ducati Scrambler 1100 Special', 1350000, 'Mumbai', 190, 'First Owner', 1, 1100, 'Ducati'), (93, 'Triumph Street Triple 765', 790000, 'Mumbai', 19000, 'First Owner', 3, 765, 'Triumph'), (94, 'Bajaj V15 150cc', 47000, 'Bangalore', 8600, 'First Owner', 4, 150, 'Bajaj'), (95, 'Bajaj Pulsar 150cc', 60000, 'Pune', 2000, 'First Owner', 2, 150, 'Bajaj'), (96, 'Suzuki Gixxer Fi 150cc ABS', 96700, 'Vadodara', 5100, 'First Owner', 1, 150, 'Suzuki'), (97, 'Hero Splendor plus 100cc', 31900, 'Delhi', 9000, 'First Owner', 5, 100, 'Hero'), (98, 'Bajaj Pulsar 150cc', 35000, 'Visakhapatnam', 44480, 'First Owner', 13, 150, 'Bajaj'), (99, 'KTM Duke 390cc', 240000, 'Bangalore', 11000, 'First Owner', 3, 390, 'KTM'), (100, 'Honda CBR 250R', 68000, 'Delhi', 16000, 'First Owner', 7, 250, 'Honda'), (101, 'Bajaj Pulsar RS200', 80000, 'Bangalore', 26691, 'First Owner', 5, 200, 'Bajaj'), (102, 'Royal Enfield Classic 350cc', 135000, 'Bangalore', 45000, 'First Owner', 5, 350, 'Royal Enfield'), (103, 'Bajaj Pulsar 150cc', 11100, 'Pune', 12000, 'Third Owner', 12, 150, 'Bajaj'), (104, 'Benelli TNT 600i', 480000, 'Mumbai', 14200, 'First Owner', 4, 600, 'Benelli'), (105, 'Suzuki Gixxer 150cc SP Rear Disc', 65000, 'Thrissur', 41000, 'First Owner', 3, 150, 'Suzuki'), (106, 'Yamaha FZ S V 2.0 150cc', 60000, 'Bangalore', 15000, 'First Owner', 5, 150, 'Yamaha'), (107, 'Honda CBR 150R 150cc', 80000, 'Bangalore', 12314, 'First Owner', 4, 150, 'Honda'), (108, 'Hero Splendor Plus Self Alloy 100cc', 46000, 'Delhi', 11760, 'First Owner', 3, 100, 'Hero'), (109, 'Royal Enfield Classic 500cc', 95000, 'Bangalore', 22000, 'First Owner', 11, 500, 'Royal Enfield'), (110, 'Hyosung GT650R', 400000, 'Delhi', 1800, 'First Owner', 4, 650, 'Hyosung'), (111, 'Bajaj V15 150cc', 55000, 'Bangalore', 4400, 'First Owner', 4, 150, 'Bajaj'), (112, 'Yamaha YZF-R15 S 150cc', 63000, 'Delhi', 16000, 'First Owner', 5, 150, 'Yamaha'), (113, 'Bajaj V15 150cc', 51000, 'Faridabad', 9000, 'First Owner', 4, 150, 'Bajaj'), (114, 'TVS Apache RTR 160 4V Disc', 69900, 'Delhi', 8700, 'First Owner', 3, 160, 'TVS'), (115, 'Bajaj Pulsar RS200 ABS', 125000, 'Gorakhpur', 1342, 'First Owner', 4, 200, 'Bajaj'), (116, 'Benelli TNT 300', 210000, 'Kolkata', 21000, 'First Owner', 6, 300, 'Benelli'), (117, 'Honda CB ShineSP 125cc', 35900, 'Delhi', 19000, 'First Owner', 5, 125, 'Honda'), (118, 'Honda CBR 250R', 67000, 'Delhi', 13000, 'First Owner', 9, 250, 'Honda'), (119, 'Hero Passion Pro 100cc', 29339, 'Ernakulam', 12771, 'First Owner', 4, 100, 'Hero'), (120, 'Hero Splendor Plus 100cc', 19695, 'Ernakulam', 51576, 'First Owner', 6, 100, 'Hero'), (121, 'Hero Splendor iSmart Plus IBS 110cc', 48672, 'Ernakulam', 608, 'First Owner', 2, 110, 'Hero'), (122, 'Honda CBR 150R 150cc', 40000, 'Mumbai', 13680, 'First Owner', 9, 150, 'Honda'), (123, 'Yamaha YZF R6 600cc', 500000, 'Bangalore', 285, 'First Owner', 5, 600, 'Yamaha'), (124, 'Ducati 1299 Superleggera', 800000, 'Mumbai', 3, 'First Owner', 3, 1299, 'Ducati'), (125, 'Royal Enfield Himalayan 410cc', 110000, 'Bangalore', 24676, 'First Owner', 5, 410, 'Royal Enfield'), (126, 'Royal Enfield Classic 350cc', 92500, 'Delhi', 11000, 'First Owner', 6, 350, 'Royal Enfield'), (127, 'Bajaj Pulsar NS200', 57000, 'Bangalore', 28948, 'First Owner', 5, 200, 'Bajaj'), (128, 'Royal Enfield Electra 350cc', 72500, 'Delhi', 10000, 'First Owner', 10, 350, 'Royal Enfield'), (129, 'KTM Duke 200cc', 68000, 'Delhi', 16000, 'First Owner', 9, 200, 'KTM'), (130, 'TVS Phoenix Disc 125cc', 21500, 'Barasat', 10500, 'First Owner', 5, 125, 'TVS'), (131, 'TVS Apache RTR 160cc', 40000, 'Delhi', 20000, 'First Owner', 6, 160, 'TVS'), (132, 'Royal Enfield Classic 350cc', 91000, 'Delhi', 18000, 'First Owner', 5, 350, 'Royal Enfield'), (133, 'Harley-Davidson Street 750', 300000, 'Ghaziabad', 3500, 'First Owner', 6, 750, 'Harley-Davidson'), (134, 'Suzuki Gixxer SF 150cc', 47000, 'Jaipur', 70000, 'First Owner', 6, 150, 'Suzuki'), (135, 'Suzuki Gixxer 150cc', 53000, 'Bangalore', 18158, 'First Owner', 6, 150, 'Suzuki'), (136, 'Suzuki Gixxer 150cc', 51000, 'Bangalore', 39140, 'First Owner', 5, 150, 'Suzuki'), (137, 'Bajaj Pulsar 220F', 48000, 'Bangalore', 27776, 'First Owner', 8, 220, 'Bajaj'), (138, 'Bajaj Pulsar 220cc', 55000, 'Bangalore', 32734, 'First Owner', 6, 220, 'Bajaj'), (139, 'Royal Enfield Himalayan 410cc Fi ABS', 173300, 'Vadodara', 14000, 'First Owner', 2, 410, 'Royal Enfield'), (140, 'Royal Enfield Bullet Electra 350cc', 77000, 'Delhi', 13000, 'First Owner', 8, 350, 'Royal Enfield'), (141, 'Bajaj Pulsar NS200', 115000, 'Bangalore', 5000, 'First Owner', 2, 200, 'Bajaj'), (142, 'Bajaj Discover 150cc', 36000, 'Hyderabad', 39500, 'First Owner', 7, 150, 'Bajaj'), (143, 'Bajaj Avenger Street 220', 72000, 'Hyderabad', 29500, 'First Owner', 4, 220, 'Bajaj'), (144, 'Royal Enfield Standard 350cc', 115000, 'Hyderabad', 14900, 'First Owner', 3, 350, 'Royal Enfield'), (145, 'Honda CB Shine 125cc Disc', 65000, 'Mumbai', 2000, 'First Owner', 3, 125, 'Honda'), (146, 'Honda CB Unicorn ABS 150cc', 99000, 'Mumbai', 4000, 'First Owner', 2, 150, 'Honda'), (147, 'Yamaha YZF-R15 2.0 150cc', 68500, 'Delhi', 68500, 'Second Owner', 7, 150, 'Yamaha'), (148, 'Yamaha YZF-R15 V3 150cc', 140000, 'Delhi', 2473, 'First Owner', 2, 150, 'Yamaha')]\n"
     ]
    }
   ],
   "source": [
    "# create a reference for sql library\n",
    "engine = create_engine('sqlite://',\n",
    "                       echo = False)\n",
    " \n",
    "# attach the data frame to the sql with a name of the table\n",
    "data.to_sql('Bikes',\n",
    "               con = engine)\n",
    " \n",
    "# show the complete data\n",
    "print(engine.execute(\"SELECT * FROM Bikes\").fetchall())"
   ]
  },
  {
   "cell_type": "code",
   "execution_count": null,
   "id": "9bab293c",
   "metadata": {},
   "outputs": [],
   "source": []
  }
 ],
 "metadata": {
  "kernelspec": {
   "display_name": "Python 3 (ipykernel)",
   "language": "python",
   "name": "python3"
  },
  "language_info": {
   "codemirror_mode": {
    "name": "ipython",
    "version": 3
   },
   "file_extension": ".py",
   "mimetype": "text/x-python",
   "name": "python",
   "nbconvert_exporter": "python",
   "pygments_lexer": "ipython3",
   "version": "3.8.5"
  }
 },
 "nbformat": 4,
 "nbformat_minor": 5
}
